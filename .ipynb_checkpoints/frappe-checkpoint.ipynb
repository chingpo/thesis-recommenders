{
 "cells": [
  {
   "cell_type": "markdown",
   "metadata": {},
   "source": [
    "# Get to know the dataset\n",
    "\n",
    "The anonymized [Frappe](http://baltrunas.info/research-menu/frappe) dataset is generated from the usage in a mobile application named Frappe, which is a context-aware app discovery tool that should recommend the right apps for the right moment. It captures how many times (**cnt**) an application (**item**) was used in a given context by a given user within two months.\n",
    "\n",
    "Dataset Statistics:\n",
    "    #entries:  96203\n",
    "    #user:  957\n",
    "    #item:  4082\n",
    "The data contains 8 context factors:\t\n",
    "\t#daytime:  7 (time period of the day, e.g. morning)\n",
    "\t#weekday:  7 (day of the week)\n",
    "\t#isweekend:  2 (weekday or weekend)\n",
    "\t#homework:  3 (at home or at work)\n",
    "\t#cost:  2 (free or paid)\n",
    "\t#weather:  9\n",
    "\t#country:  80\n",
    "\t#city:  233"
   ]
  },
  {
   "cell_type": "code",
   "execution_count": 13,
   "metadata": {
    "collapsed": true
   },
   "outputs": [],
   "source": [
    "%matplotlib inline \n",
    "\n",
    "import matplotlib\n",
    "import pandas\n",
    "import matplotlib.pyplot as plt\n",
    "import numpy as np\n",
    "from collections import Counter"
   ]
  },
  {
   "cell_type": "code",
   "execution_count": null,
   "metadata": {
    "collapsed": false
   },
   "outputs": [],
   "source": [
    "df = pandas.read_csv('frappe.csv', sep=\"\\t\")\n",
    "df.head()"
   ]
  },
  {
   "cell_type": "code",
   "execution_count": null,
   "metadata": {
    "collapsed": false
   },
   "outputs": [],
   "source": [
    "print \"In the frappe data set we have {} entries by {} users for {} apps\".format(len(df), len(df.user.unique()), len(df.item.unique()))"
   ]
  },
  {
   "cell_type": "code",
   "execution_count": null,
   "metadata": {
    "collapsed": true
   },
   "outputs": [],
   "source": [
    "print \"Context factor daytime has {} conditions\".format(len(df.daytime.unique()))\n",
    "print \"Context factor weekday has {} conditions\".format(len(df.weekday.unique()))\n",
    "print \"Context factor isweekend has {} conditions\".format(len(df.isweekend.unique()))\n",
    "print \"Context factor homework has {} conditions\".format(len(df.homework.unique()))\n",
    "print \"Context factor cost has {} conditions\".format(len(df.cost.unique()))\n",
    "print \"Context factor weather has {} conditions\".format(len(df.weather.unique()))\n",
    "print \"Context factor country has {} conditions\".format(len(df.country.unique()))\n",
    "print \"Context factor city has {} conditions\".format(len(df.city.unique()))"
   ]
  },
  {
   "cell_type": "markdown",
   "metadata": {},
   "source": [
    "In my experiments, I use all the context factors except **cost** since it sounds more like an attribute of the app. Also note that among the 7 used context factors, semantically, ‘city’ uniquely determines ‘country’ and ‘weekday’ uniquely determines ‘isweekend’, although the algorithm is blind to this inner-related/redundant context information. \n",
    "\n",
    "Two things about the dataset are interesting to know: data density and status about how many user-item-context interactions the users have. Note that data density is also referred as data sparsity in other papers, but then the higher value means being less sparse. To positively correlate to the value, I use density instead.\n",
    "\n",
    "### Data density\n",
    "First we analyze the data density. The density of the whole dataset can be computed as\n",
    "\n",
    "\\begin{equation}\n",
    "\\text{density}= \\frac{\\#obs}{\\prod_i D_i}\n",
    "\\end{equation}\n",
    "\n",
    "where $D_i$ denotes the size of each dimension. Therefore, the density of the Frappe dataset is 5E-10. This density is equivalent to that of arranging the data into a tensor. If we calculate the density of arranging data into a description table as FM requires, the density is then 8.86E-5. We can thus see the advantage of FM on handling sparse data.\n",
    "\n",
    "The density of each context factor $C_i$ can be also computed as \n",
    "\\begin{equation}\n",
    "\\text{density on context factor $C_i$}= \\frac{\\#obs}{\\#users \\times \\#items \\times \\#C_i}\n",
    "\\end{equation}\n",
    "\n",
    "Where $C_1$ to $C_7$ stand for seven context facoters daytime, weekday, isweekend, homework, weather, country, city respectively. "
   ]
  },
  {
   "cell_type": "code",
   "execution_count": 4,
   "metadata": {
    "collapsed": false
   },
   "outputs": [
    {
     "data": {
      "image/png": "[encoded data removed]",
      "text/plain": [
       "<matplotlib.figure.Figure at 0x112726190>"
      ]
     },
     "metadata": {},
     "output_type": "display_data"
    }
   ],
   "source": [
    "# Data density on each context factor. Density is presented in E-3 (10−3).\n",
    "\n",
    "def plot_context_density():\n",
    "    N = 7\n",
    "    xticklabels = ('$C_1$', '$C_2$', '$C_3$', '$C_4$', '$C_5$', '$C_6$', '$C_7$')\n",
    "    ind = np.arange(N)  # the x locations for the groups\n",
    "    width = 0.3  # the width of the bars\n",
    "\n",
    "    sparsity_c = (3.52, 3.52, 12.31, 8.21, 2.74, 0.31, 0.11)\n",
    "\n",
    "    rects1 = plt.bar(ind, sparsity_c, width, color='#2e7ff2', edgecolor=\"none\", align='center')\n",
    "\n",
    "    plt.ylabel('density (E-3)')\n",
    "    plt.xlabel('context factors')\n",
    "    plt.title('Data density w.r.t. each context factors')\n",
    "    plt.xticks(ind, xticklabels)\n",
    "    plt.show()\n",
    "    \n",
    "plot_context_density()"
   ]
  },
  {
   "cell_type": "markdown",
   "metadata": {},
   "source": [
    "### User-item-context interactions\n",
    "\n",
    "Next we analyze the number of users with regard to the number of user-item-context interactions. Although some user can has as much as 1053 interactions, on average, each user has 100.5 interactions. Or more properly, The median number is 21, which demonstrates that half of the users have equal or less than 21 interactions. And there are around 80 users having only 1 interaction."
   ]
  },
  {
   "cell_type": "code",
   "execution_count": 10,
   "metadata": {
    "collapsed": false
   },
   "outputs": [
    {
     "data": {
      "image/png": "[encoded data removed]",
      "text/plain": [
       "<matplotlib.figure.Figure at 0x112af0cd0>"
      ]
     },
     "metadata": {},
     "output_type": "display_data"
    },
    {
     "name": "stdout",
     "output_type": "stream",
     "text": [
      "Max: 1053\n",
      "Median: 21.0\n",
      "Mean: 100.525600836\n"
     ]
    }
   ],
   "source": [
    "# Number of users w.r.t. number of (user-item-context) interactions. \n",
    "# The axes are scaled logarithmically. \n",
    "# The original and cumulative number of users are shown in blue and red line respectively. \n",
    "# Each user has average 100.5 interactions. The median interaction number is 21. The maximum interaction number is 1053.\n",
    "\n",
    "def plot_user_interaction():\n",
    "    data = pandas.read_csv(\"frappe.csv\", sep=\"\\t\", usecols=[0, 1, 2, 3, 4, 5, 6, 8, 9, 10])\n",
    "    data.head()\n",
    "\n",
    "    counts = data[\"user\"].value_counts()\n",
    "    dict_user_interaction = counts.to_dict()\n",
    "#     print(dict_user_interaction)\n",
    "    interactions = list(dict_user_interaction.values())\n",
    "    counter = Counter(interactions)\n",
    "\n",
    "    x=[]\n",
    "    y=[]\n",
    "    cu = []\n",
    "    for i in range(0, np.max(counts)+1):\n",
    "        x.append(i)\n",
    "        y.append(interactions.count(i))\n",
    "        cu.append(sum(y))\n",
    "\n",
    "    plt.title('number of users w.r.t. number of interactions')\n",
    "    plt.xlabel('#interactions')\n",
    "    plt.ylabel('#users')\n",
    "    plt.xscale('log')\n",
    "    plt.yscale('log')\n",
    "    plt.grid(\"on\")\n",
    "\n",
    "    plt.plot(x,y,'b',label = \"number\")\n",
    "    plt.plot(x,cu,'r', label = \"cumulative number\")\n",
    "    plt.legend(bbox_to_anchor=(1, 1), loc=2, prop={'size': 10})\n",
    "    plt.show()\n",
    "\n",
    "    print \"Max: {}\".format(np.max(counts))\n",
    "    print \"Median: {}\".format(np.median(counts))\n",
    "    print \"Mean: {}\".format(np.mean(counts))\n",
    "\n",
    "plot_user_interaction()"
   ]
  },
  {
   "cell_type": "markdown",
   "metadata": {},
   "source": [
    "In addition, as for metadata, I use five attributes for the experiments:\n",
    "\n",
    "  - *category*: the category of the app such as ‘Tools’, ‘News & Magazines’ and so on, 32 conditions in total.\n",
    "\n",
    "  - *downloads*: download times of the app, discretized to 16 conditions.\n",
    "\n",
    "  - *language*: language of the app, 29 conditions in total.\n",
    "\n",
    "  - *price*: price of the app, discretized to 3 conditions - ‘Free’, ‘Paid’, ‘unknown’.\n",
    "\n",
    "  - *rating*: average rating of the app given by a subset of all Frappe users (not necessarily the users represented in the dataset), 9 conditions present."
   ]
  },
  {
   "cell_type": "code",
   "execution_count": 11,
   "metadata": {
    "collapsed": false
   },
   "outputs": [
    {
     "data": {
      "text/html": [
       "<div>\n",
       "<table border=\"1\" class=\"dataframe\">\n",
       "  <thead>\n",
       "    <tr style=\"text-align: right;\">\n",
       "      <th></th>\n",
       "      <th>item</th>\n",
       "      <th>package</th>\n",
       "      <th>category</th>\n",
       "      <th>downloads</th>\n",
       "      <th>developer</th>\n",
       "      <th>icon</th>\n",
       "      <th>language</th>\n",
       "      <th>description</th>\n",
       "      <th>name</th>\n",
       "      <th>price</th>\n",
       "      <th>rating</th>\n",
       "      <th>short desc</th>\n",
       "    </tr>\n",
       "  </thead>\n",
       "  <tbody>\n",
       "    <tr>\n",
       "      <th>0</th>\n",
       "      <td>0</td>\n",
       "      <td>com.anydo</td>\n",
       "      <td>Productivity</td>\n",
       "      <td>1,000,000 - 5,000,000</td>\n",
       "      <td>Any.DO</td>\n",
       "      <td>http://d2lh3rxs7crswz.cloudfront.net/com.anydo...</td>\n",
       "      <td>en</td>\n",
       "      <td>Meet Any.DO, the best way to-do To-do's on And...</td>\n",
       "      <td>Any.DO To-do &amp; Tasks List</td>\n",
       "      <td>Free</td>\n",
       "      <td>4.5</td>\n",
       "      <td>Any.DO helps you remember everything you have ...</td>\n",
       "    </tr>\n",
       "    <tr>\n",
       "      <th>1</th>\n",
       "      <td>1</td>\n",
       "      <td>com.yahoo.mobile.client.android.yahoo</td>\n",
       "      <td>News &amp; Magazines</td>\n",
       "      <td>1,000,000 - 5,000,000</td>\n",
       "      <td>Yahoo! Inc.</td>\n",
       "      <td>http://d2lh3rxs7crswz.cloudfront.net/com.yahoo...</td>\n",
       "      <td>en</td>\n",
       "      <td>With Yahoo! for Android, you’ll stay connected...</td>\n",
       "      <td>Yahoo!</td>\n",
       "      <td>Free</td>\n",
       "      <td>4.2</td>\n",
       "      <td>With Yahoo! for Android, you’ll stay connected...</td>\n",
       "    </tr>\n",
       "    <tr>\n",
       "      <th>2</th>\n",
       "      <td>2</td>\n",
       "      <td>com.compasspro</td>\n",
       "      <td>Tools</td>\n",
       "      <td>1,000,000 - 5,000,000</td>\n",
       "      <td>Mobile Essentials</td>\n",
       "      <td>http://d2lh3rxs7crswz.cloudfront.net/com.compa...</td>\n",
       "      <td>en</td>\n",
       "      <td>Professional Compass for Android. Simple and p...</td>\n",
       "      <td>Compass PRO</td>\n",
       "      <td>Free</td>\n",
       "      <td>4.1</td>\n",
       "      <td>Professional Compass for Android. Simple and p...</td>\n",
       "    </tr>\n",
       "    <tr>\n",
       "      <th>3</th>\n",
       "      <td>3</td>\n",
       "      <td>com.instagram.android</td>\n",
       "      <td>Social</td>\n",
       "      <td>50,000,000 - 100,000,000</td>\n",
       "      <td>Instagram</td>\n",
       "      <td>http://d2lh3rxs7crswz.cloudfront.net/com.insta...</td>\n",
       "      <td>en</td>\n",
       "      <td>Instagram – A beautiful way to share your worl...</td>\n",
       "      <td>Instagram</td>\n",
       "      <td>Free</td>\n",
       "      <td>4.6</td>\n",
       "      <td>Instagram – A beautiful way to share your worl...</td>\n",
       "    </tr>\n",
       "    <tr>\n",
       "      <th>4</th>\n",
       "      <td>4</td>\n",
       "      <td>com.shoppinglist</td>\n",
       "      <td>Shopping</td>\n",
       "      <td>10,000 - 50,000</td>\n",
       "      <td>Kiwi3</td>\n",
       "      <td>http://d2lh3rxs7crswz.cloudfront.net/com.shopp...</td>\n",
       "      <td>en</td>\n",
       "      <td>Shopping List is the most easy way to organize...</td>\n",
       "      <td>Shopping List</td>\n",
       "      <td>Free</td>\n",
       "      <td>4.5</td>\n",
       "      <td>The most easy Shopping List. In English, for f...</td>\n",
       "    </tr>\n",
       "  </tbody>\n",
       "</table>\n",
       "</div>"
      ],
      "text/plain": [
       "   item                                package          category  \\\n",
       "0     0                              com.anydo      Productivity   \n",
       "1     1  com.yahoo.mobile.client.android.yahoo  News & Magazines   \n",
       "2     2                         com.compasspro             Tools   \n",
       "3     3                  com.instagram.android            Social   \n",
       "4     4                       com.shoppinglist          Shopping   \n",
       "\n",
       "                  downloads          developer  \\\n",
       "0     1,000,000 - 5,000,000             Any.DO   \n",
       "1     1,000,000 - 5,000,000        Yahoo! Inc.   \n",
       "2     1,000,000 - 5,000,000  Mobile Essentials   \n",
       "3  50,000,000 - 100,000,000          Instagram   \n",
       "4           10,000 - 50,000              Kiwi3   \n",
       "\n",
       "                                                icon language  \\\n",
       "0  http://d2lh3rxs7crswz.cloudfront.net/com.anydo...       en   \n",
       "1  http://d2lh3rxs7crswz.cloudfront.net/com.yahoo...       en   \n",
       "2  http://d2lh3rxs7crswz.cloudfront.net/com.compa...       en   \n",
       "3  http://d2lh3rxs7crswz.cloudfront.net/com.insta...       en   \n",
       "4  http://d2lh3rxs7crswz.cloudfront.net/com.shopp...       en   \n",
       "\n",
       "                                         description  \\\n",
       "0  Meet Any.DO, the best way to-do To-do's on And...   \n",
       "1  With Yahoo! for Android, you’ll stay connected...   \n",
       "2  Professional Compass for Android. Simple and p...   \n",
       "3  Instagram – A beautiful way to share your worl...   \n",
       "4  Shopping List is the most easy way to organize...   \n",
       "\n",
       "                        name price rating  \\\n",
       "0  Any.DO To-do & Tasks List  Free    4.5   \n",
       "1                     Yahoo!  Free    4.2   \n",
       "2                Compass PRO  Free    4.1   \n",
       "3                  Instagram  Free    4.6   \n",
       "4              Shopping List  Free    4.5   \n",
       "\n",
       "                                          short desc  \n",
       "0  Any.DO helps you remember everything you have ...  \n",
       "1  With Yahoo! for Android, you’ll stay connected...  \n",
       "2  Professional Compass for Android. Simple and p...  \n",
       "3  Instagram – A beautiful way to share your worl...  \n",
       "4  The most easy Shopping List. In English, for f...  "
      ]
     },
     "execution_count": 11,
     "metadata": {},
     "output_type": "execute_result"
    }
   ],
   "source": [
    "meta_app = pandas.read_csv('meta.csv', sep=\"\\t\")\n",
    "meta_app.head()"
   ]
  },
  {
   "cell_type": "markdown",
   "metadata": {},
   "source": [
    "Finally, we need to notice that the Frappe dataset aggregated the usage frequency of items and contains no specific time record (timestamp), which is actually a pity since the training set and test set splitting would be much preferred according to time as the experiments in paper of iALS [22]. If the dataset contains timestamp, we can split the dataset on time segmentation, e.g., use raw observations of the last two weeks within these two months as the test set and all the observations before that are as training set. And then the prediction task would be “given the usage history, predict which items the user will interact in the last two weeks under a certain context”. Since the dataset has no timestamp, we can randomly shuffle the (aggregated) observations to training set and test set. And then the training set and test set have no overlapped user-item-context interactions. The prediction task would be “given the user-item-context interactions, predict which item else the user would interact for a given context”.\n"
   ]
  },
  {
   "cell_type": "markdown",
   "metadata": {},
   "source": [
    "# Prepare the data for experiments\n",
    "\n",
    "for iALS, lightFM \n",
    "for FM, GPPW"
   ]
  },
  {
   "cell_type": "markdown",
   "metadata": {
    "collapsed": false
   },
   "source": []
  },
  {
   "cell_type": "code",
   "execution_count": null,
   "metadata": {
    "collapsed": true
   },
   "outputs": [],
   "source": [
    "def split_data_to_file(train_filename, test_filename):\n",
    "\n",
    "    shuffled_data = data.sample(frac=1).reset_index(drop=True)\n",
    "    numlines = int(shuffled_data.shape[0] * 0.80)\n",
    "    train_data = shuffled_data.loc[:numlines-1]\n",
    "    test_data = shuffled_data.loc[numlines:]\n",
    "    train_data.to_csv(train_filename, sep='\\t', index= False, header= None)\n",
    "    test_data.to_csv(test_filename, sep='\\t', index= False, header= None)"
   ]
  },
  {
   "cell_type": "code",
   "execution_count": null,
   "metadata": {
    "collapsed": true
   },
   "outputs": [],
   "source": []
  },
  {
   "cell_type": "code",
   "execution_count": null,
   "metadata": {
    "collapsed": true
   },
   "outputs": [],
   "source": []
  },
  {
   "cell_type": "markdown",
   "metadata": {},
   "source": [
    "Bootstrap sampling"
   ]
  },
  {
   "cell_type": "code",
   "execution_count": null,
   "metadata": {
    "collapsed": true
   },
   "outputs": [],
   "source": [
    "data_cols = ['user', 'item', 'cnt', 'daytime', 'weekday', 'isweekend', 'homework', 'weather', 'country', 'city']\n",
    "data = pandas.read_csv(\"frappe.csv\", sep=\"\\t\", usecols=[0, 1, 2, 3, 4, 5, 6, 8, 9, 10])\n",
    "data.head()\n",
    "\n",
    "data[\"city\"] = data[\"city\"].astype(str)\n",
    "\n",
    "# map the context conditions to int value starting from 1 (for Matlab)\n",
    "daytime = {'sunrise': 1, 'morning': 2, 'noon': 3, 'afternoon': 4, 'sunset': 5, 'evening': 6, 'night': 7}\n",
    "weekday = {'monday': 1, 'tuesday': 2, 'wednesday': 3, 'thursday': 4, 'friday': 5, 'saturday': 6, 'sunday': 7}\n",
    "isweekend = {'workday': 1, 'weekend': 2}\n",
    "homework = {'home': 1, 'work': 2, 'unknown': 3}\n",
    "cost = {'paid': 1, 'free': 2}\n",
    "weather = {'cloudy': 1, 'drizzle': 2, 'foggy': 3, 'rainy': 4, 'sleet': 5, 'snowy': 6, 'stormy': 7, 'sunny': 8, 'unknown': 9}\n",
    "\n",
    "country = sorted(set(data['country']))\n",
    "city = sorted(set(data['city']))\n",
    "\n",
    "users = set(data['user'])\n",
    "items = set(data['item'])"
   ]
  },
  {
   "cell_type": "code",
   "execution_count": null,
   "metadata": {
    "collapsed": true
   },
   "outputs": [],
   "source": [
    "def create_fm_train(outputfile, trainfilename):\n",
    "\n",
    "    train_data = pandas.read_csv(trainfilename, sep=\"\\t\", names = data_cols)\n",
    "    train_data[\"cnt\"] = 1\n",
    "    train_data_2n = train_data\n",
    "\n",
    "    for index, row in train_data.iterrows():\n",
    "        print(index)\n",
    "\n",
    "        item_sample = random.choice(tuple(items))\n",
    "\n",
    "        for i in range(0, len(items)):\n",
    "            matched_dataframe = data.loc[(data['user'] == row[\"user\"]) & (data['item'] == item_sample) & (\n",
    "                     data['daytime'] == row[\"daytime\"]) & (data['weekday'] == row[\"weekday\"]) & (\n",
    "                     data['isweekend'] == row[\"isweekend\"]) & (data['homework'] == row[\"homework\"]) & (\n",
    "                     data['weather'] == row[\"weather\"]) & (data['country'] == row[\"country\"]) & (\n",
    "                     data['city'] == row[\"city\"])]\n",
    "            if(matched_dataframe.empty):\n",
    "                break\n",
    "            else:\n",
    "                item_sample = random.choice(tuple(items))\n",
    "\n",
    "        train_data_2n.loc[train_data_2n.shape[0]] = [row[\"user\"], item_sample, -1, row[\"daytime\"], row[\"weekday\"], row[\"isweekend\"], row[\"homework\"], row[\"weather\"], row[\"country\"], row[\"city\"]]\n",
    "        # print(train_data_2n.loc[train_data_2n.shape[0]-1])\n",
    "\n",
    "    # write to the train data file\n",
    "    train_data_2n.to_csv(outputfile, sep='\\t', index= False, header= None)"
   ]
  },
  {
   "cell_type": "code",
   "execution_count": null,
   "metadata": {
    "collapsed": true
   },
   "outputs": [],
   "source": [
    "def create_fm_test(outputfile, testfilename):\n",
    "    test_data = pandas.read_csv(testfilename, sep=\"\\t\", names=data_cols)\n",
    "    test_data[\"cnt\"] = 1\n",
    "    test_data_20n = test_data\n",
    "\n",
    "    for index, row in test_data.iterrows():\n",
    "        print(index)\n",
    "\n",
    "        remain_itemset = items\n",
    "\n",
    "        for k in range(0, 20):\n",
    "            item_sample = random.choice(tuple(remain_itemset))\n",
    "            for i in range(0, len(items)):\n",
    "                matched_dataframe = data.loc[(data['user'] == row[\"user\"]) & (data['item'] == item_sample) & (\n",
    "                         data['daytime'] == row[\"daytime\"]) & (data['weekday'] == row[\"weekday\"]) & (\n",
    "                         data['isweekend'] == row[\"isweekend\"]) & (data['homework'] == row[\"homework\"]) & (\n",
    "                         data['weather'] == row[\"weather\"]) & (data['country'] == row[\"country\"]) & (\n",
    "                         data['city'] == row[\"city\"])]\n",
    "                if(matched_dataframe.empty):\n",
    "                    break\n",
    "                else:\n",
    "                    item_sample = random.choice(tuple(remain_itemset))\n",
    "\n",
    "            test_data_20n.loc[test_data_20n.shape[0]] = [row[\"user\"], item_sample, -1, row[\"daytime\"], row[\"weekday\"], row[\"isweekend\"], row[\"homework\"], row[\"weather\"], row[\"country\"], row[\"city\"]]\n",
    "            remain_itemset = items - {item_sample}\n",
    "            #print(test_data_20n.loc[test_data_20n.shape[0]-1])\n",
    "\n",
    "    # write to the test data file\n",
    "    test_data_20n.to_csv(outputfile, sep='\\t', index= False, header= None)\n"
   ]
  },
  {
   "cell_type": "code",
   "execution_count": null,
   "metadata": {
    "collapsed": true
   },
   "outputs": [],
   "source": [
    "# use the sampled result from fm to convert to the format used in GPPW\n",
    "def create_gppw_item_test(outputfile, fm_file):\n",
    "    # write out the matrix from the final sampled fm file\n",
    "    df = pandas.read_csv(fm_file, sep=\"\\t\", names=data_cols)\n",
    "    df[\"city\"] = df[\"city\"].astype(str)\n",
    "\n",
    "    with open(outputfile, \"w\") as o:\n",
    "        for index, row in df.iterrows():\n",
    "            print(index)\n",
    "            o.write(\"%s,%s,%s,%s,%s,%s,%s,%s,%s,%s\\n\" %\n",
    "                    (int(row[\"user\"]) + 1,\n",
    "                     int(row[\"item\"]) + 1,\n",
    "                     daytime.get(row[\"daytime\"]),\n",
    "                     weekday.get(row[\"weekday\"]),\n",
    "                     isweekend.get(row[\"isweekend\"]),\n",
    "                     homework.get(row[\"homework\"]),\n",
    "                     weather.get(row[\"weather\"]),\n",
    "                     country.index(row[\"country\"]) + 1,\n",
    "                     city.index(row[\"city\"]) + 1,\n",
    "                     row[\"cnt\"]))\n"
   ]
  },
  {
   "cell_type": "code",
   "execution_count": null,
   "metadata": {
    "collapsed": true
   },
   "outputs": [],
   "source": [
    "def create_gppw_train(outputfile, file_gppw_item):\n",
    "    df = pandas.read_csv(file_gppw_item, sep=\",\", header= None)\n",
    "    index_positive = 0\n",
    "    index_negative = df.shape[0]/2\n",
    "\n",
    "    with open(outputfile, \"w\") as o:\n",
    "        for k in range(0, df.shape[0] / 2):\n",
    "            print(k)\n",
    "            s1 = df.iloc[index_positive]\n",
    "            s2 = df.iloc[index_negative]\n",
    "\n",
    "            o.write(\"%s,%s,%s,%s,%s,%s,%s,%s,%s,%s,%s,%s,%s,%s,%s,%s,%s,%s\\n\" %\n",
    "                    (s1[0], s1[1], s1[2], s1[3], s1[4], s1[5], s1[6], s1[7], s1[8],\n",
    "                     s2[1], s2[2], s2[3], s2[4], s2[5], s2[6], s2[7], s2[8], 1))\n",
    "\n",
    "\n",
    "            index_positive += 1\n",
    "            index_negative += 1\n",
    "\n",
    "        index_positive = 0\n",
    "        index_negative = df.shape[0] / 2\n",
    "\n",
    "        for k in range(0, df.shape[0] / 2):\n",
    "            print(k)\n",
    "            s1 = df.iloc[index_positive]\n",
    "            s2 = df.iloc[index_negative]\n",
    "\n",
    "            o.write(\"%s,%s,%s,%s,%s,%s,%s,%s,%s,%s,%s,%s,%s,%s,%s,%s,%s,%s\\n\" %\n",
    "                    (s2[0], s2[1], s2[2], s2[3], s2[4], s2[5], s2[6], s2[7], s2[8],\n",
    "                     s1[1], s1[2], s1[3], s1[4], s1[5], s1[6], s1[7], s1[8], '-1'))\n",
    "\n",
    "            index_positive += 1\n",
    "            index_negative += 1\n",
    "\n"
   ]
  }
 ],
 "metadata": {
  "kernelspec": {
   "display_name": "Python 2",
   "language": "python",
   "name": "python2"
  },
  "language_info": {
   "codemirror_mode": {
    "name": "ipython",
    "version": 2
   },
   "file_extension": ".py",
   "mimetype": "text/x-python",
   "name": "python",
   "nbconvert_exporter": "python",
   "pygments_lexer": "ipython2",
   "version": "2.7.13"
  }
 },
 "nbformat": 4,
 "nbformat_minor": 0
}
